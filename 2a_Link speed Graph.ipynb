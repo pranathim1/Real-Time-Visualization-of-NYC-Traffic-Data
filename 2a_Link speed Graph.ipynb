{
 "cells": [
  {
   "cell_type": "markdown",
   "metadata": {
    "nbpresent": {
     "id": "dccbd376-0a6b-40ba-82dd-592b7a58099f"
    }
   },
   "source": [
    "Data Stream: http://207.251.86.229/nyc-links-cams/LinkSpeedQuery.txt\n",
    "\n",
    "Documentation: http://a841-dotweb01.nyc.gov/datafeeds/TrafficSpeed/metadata_trafficspeeds.pdf\n",
    "\n",
    "NYC Data Feed Website: http://www.nyc.gov/html/dot/html/about/datafeeds.shtml\n",
    "\n",
    "### Indexes\n",
    "\n",
    "0) **Id**: TRANSCOM Link ID\n",
    "\n",
    "1) **Speed**: Average speed a vehicle traveled between end points on the link in the most recent interval\n",
    "\n",
    "2) **TravelTime**: Time the average vehicle took to traverse the link\n",
    "\n",
    "3) Status: Artifact - not useful\n",
    "\n",
    "4) **DataAsOf**: Last time data was received from link\n",
    "\n",
    "5) linkId: TRANSCOM Link ID (same as ID field)\n",
    "\n",
    "6) **linkPoints**: Sequence of Lat/Long points, describes locations of the senosr links.  Google compatible polyline form.\n",
    "\n",
    "7) **EncodedPolyLine**: http://code.google.com/apis/maps/documentation/polylineutility.html  Google compatible poly levels form.\n",
    "\n",
    "8) **EncodedPolyLineLvls**: http://code.google.com/apis/maps/documentation/polylineutility.html\n",
    "\n",
    "9) **Owner**: Owner of the Detector\n",
    "\n",
    "10) Transcom_id: Artifact - Not Useful\n",
    "\n",
    "11) **Borough**: NYC borough Brooklyn, Bronx, Manhattan, Queens, Staten Island\n",
    "\n",
    "12) **linkName**: Description of the link location and end points"
   ]
  },
  {
   "cell_type": "code",
   "execution_count": 1,
   "metadata": {
    "collapsed": false,
    "nbpresent": {
     "id": "27bf869b-d092-40f1-a0a5-7d02b99b647c"
    }
   },
   "outputs": [],
   "source": [
    "# Importing Library and setting environment path\n",
    "import os\n",
    "import sys\n",
    "# set the path \n",
    "\n",
    "sparkPath = \"C:/Users/Pranathi/Downloads/spark-2.0.2-bin-hadoop2.7/spark-2.0.2-bin-hadoop2.7\"\n",
    "\n",
    "os.environ['SPARK_HOME'] = sparkPath\n",
    "sys.path.append(sparkPath + '/bin')\n",
    "sys.path.append(sparkPath + '/python')\n",
    "sys.path.append(sparkPath + '/python/pyspark')\n",
    "sys.path.append(sparkPath + '/python/pyspark/lib')\n",
    "sys.path.append(sparkPath + '/python/pyspark/lib/pyspark.zip')\n",
    "sys.path.append(sparkPath + '/python/pyspark/lib/py4j-0.10.3-src.zip')\n",
    "sys.path.append(\"C:/Program Files (x86)/Java/jre1.8.0_111/bin\")\n",
    "\n",
    "import pyspark\n",
    "from pyspark.streaming import StreamingContext\n",
    "\n",
    "sc = pyspark.SparkContext(\"local[2]\", \"trafficData\")\n",
    "ssc = StreamingContext(sc, 10)  # Seconds per micro-batch\n",
    "sqlContext = pyspark.SQLContext(sc)\n",
    "\n",
    "streamPath = 'http://207.251.86.229/nyc-links-cams/LinkSpeedQuery.txt'\n",
    "streamFilePath = \"file:/C:/Users/Pranathi/Desktop/MSBA/Fall/Harvesting Big Data/Project/data/\"\n",
    "\n",
    "import datetime\n",
    "today = datetime.datetime.today()\n",
    "currentDay = today.day\n",
    "currentMonth = today.month\n",
    "currentYear = today.year\n",
    "\n",
    "import pandas as pd"
   ]
  },
  {
   "cell_type": "markdown",
   "metadata": {
    "nbpresent": {
     "id": "c9553252-772d-4d2a-acf4-8a899070aa05"
    }
   },
   "source": [
    "#### Testing with a static RDD"
   ]
  },
  {
   "cell_type": "code",
   "execution_count": 2,
   "metadata": {
    "collapsed": false,
    "nbpresent": {
     "id": "09d55d41-60db-47c1-9ad6-8b9ba63a9c16"
    }
   },
   "outputs": [],
   "source": [
    "# trafficRDD = sc.textFile(streamFilePath + 'trafficData_20161213-142503.txt').map(lambda line: line.split(','))\n",
    "\n",
    "# trafficRDD.map(lambda line: line[11]).collect()"
   ]
  },
  {
   "cell_type": "markdown",
   "metadata": {
    "nbpresent": {
     "id": "dc629013-9a5e-4606-8dc7-85f2dbac4432"
    }
   },
   "source": [
    "# Streaming\n",
    "\n",
    "This section will do the actual streaming.  It needs to be run in parallel with the web scraping script in order to continuously update the folder with new files.  Spark streaming will not continuously re-read a file, and will only stream new files placed into a location."
   ]
  },
  {
   "cell_type": "code",
   "execution_count": 2,
   "metadata": {
    "collapsed": false,
    "nbpresent": {
     "id": "0c6d9259-7674-4fcf-aec9-df7e4023d12b"
    }
   },
   "outputs": [],
   "source": [
    "trafficStream = ssc.textFileStream(streamFilePath).map(lambda line: line.split(','))\n",
    "\n",
    "trafficStream.map(lambda line: (line[0], line[1], line[2], line[4],line[11], line[12])).foreachRDD(lambda rdd: rdd.toDF().registerTempTable(\"traffic\"))\n",
    "#trafficStream.pprint()\n",
    "ssc.start()"
   ]
  },
  {
   "cell_type": "code",
   "execution_count": 3,
   "metadata": {
    "collapsed": false
   },
   "outputs": [
    {
     "name": "stdout",
     "output_type": "stream",
     "text": [
      "High five! You successfuly sent some data to your account on plotly. View your plot in your browser at https://plot.ly/~pranathim1/0 or inside your plot.ly account where it is named 'Average speeds-links'\n"
     ]
    },
    {
     "data": {
      "text/html": [
       "<iframe id=\"igraph\" scrolling=\"no\" style=\"border:none;\" seamless=\"seamless\" src=\"https://plot.ly/~pranathim1/0.embed\" height=\"525px\" width=\"100%\"></iframe>"
      ],
      "text/plain": [
       "<plotly.tools.PlotlyDisplay object>"
      ]
     },
     "execution_count": 3,
     "metadata": {},
     "output_type": "execute_result"
    }
   ],
   "source": [
    "#Setting the layout\n",
    "import numpy as np \n",
    "import plotly.plotly as py  \n",
    "import plotly.tools as tls   \n",
    "import plotly.graph_objs as go\n",
    "import plotly \n",
    "from scipy import stats\n",
    "\n",
    "#Change the credentials to your respective plotly credentials\n",
    "\n",
    "plotly.tools.set_credentials_file(username='xyzaw', api_key='VWHsfjekwjriwe')\n",
    "\n",
    "token_1 = '0rsfd5jszk'\n",
    "stream_id1 = dict(token=token_1, maxpoints=87)\n",
    "\n",
    "# Create trace\n",
    "trace1 = go.Bar(x=[], y=[], stream=stream_id1, name='Average Speed')\n",
    "\n",
    "data = [trace1]\n",
    "\n",
    "# Edit the layout\n",
    "layout = dict(title = 'Average Speeds across links in New York',\n",
    "              xaxis = dict(title = 'Link Names'),\n",
    "              yaxis = dict(title = 'Average Speed (miles/hour)'),\n",
    "              )\n",
    "\n",
    "fig = go.Figure(data=data, layout=layout)\n",
    "\n",
    "# Send fig to Plotly, initialize streaming plot, open new tab\n",
    "py.iplot(fig, filename='Average speeds-links')\n",
    "\n"
   ]
  },
  {
   "cell_type": "markdown",
   "metadata": {},
   "source": [
    "Make sure the webscraping code is on run and has atleast 10 seconds time left when you run the below cell"
   ]
  },
  {
   "cell_type": "code",
   "execution_count": null,
   "metadata": {
    "collapsed": false
   },
   "outputs": [],
   "source": [
    "s_1 = py.Stream(stream_id=token_1)\n",
    "s_1.open()\n",
    "#s_2.open()\n",
    "\n",
    "import time\n",
    "import datetime\n",
    "import numpy as np\n",
    "\n",
    "while True:\n",
    "    time.sleep( 3 )\n",
    "    trafficDF = sqlContext.sql(\"select * from traffic LIMIT 87\").toPandas()  # 155 instances updated each time\n",
    "    trafficDF.columns = ['ID', 'Speed', 'TravelTime', 'Time', 'Borough', 'LinkName']  # Naming the columns\n",
    "\n",
    "    # Removing records not in current year/month/day\n",
    "    trafficDF['Time'] = pd.to_datetime(trafficDF['Time'])  # Converting time to datetime\n",
    "    trafficDF = trafficDF[trafficDF['Time'].dt.year == currentYear]\n",
    "    trafficDF = trafficDF[trafficDF['Time'].dt.month == currentMonth]\n",
    "    trafficDF = trafficDF[trafficDF['Time'].dt.day == currentDay]\n",
    "    trafficDF\n",
    "    x = trafficDF['LinkName']\n",
    "    y = trafficDF['Speed']\n",
    "    s_1.write(dict(x=x, y=y))\n",
    "\n",
    "s_1.close()"
   ]
  },
  {
   "cell_type": "code",
   "execution_count": null,
   "metadata": {
    "collapsed": true
   },
   "outputs": [],
   "source": []
  }
 ],
 "metadata": {
  "anaconda-cloud": {},
  "kernelspec": {
   "display_name": "Python [Root]",
   "language": "python",
   "name": "Python [Root]"
  },
  "language_info": {
   "codemirror_mode": {
    "name": "ipython",
    "version": 2
   },
   "file_extension": ".py",
   "mimetype": "text/x-python",
   "name": "python",
   "nbconvert_exporter": "python",
   "pygments_lexer": "ipython2",
   "version": "2.7.12"
  }
 },
 "nbformat": 4,
 "nbformat_minor": 1
}
