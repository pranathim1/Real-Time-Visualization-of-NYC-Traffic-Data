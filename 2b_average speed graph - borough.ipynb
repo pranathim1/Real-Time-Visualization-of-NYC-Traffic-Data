{
 "cells": [
  {
   "cell_type": "code",
   "execution_count": 34,
   "metadata": {
    "collapsed": false
   },
   "outputs": [],
   "source": [
    "# Importing Library and setting environment path\n",
    "import os\n",
    "import sys\n",
    "# set the path \n",
    "\n",
    "sparkPath = \"C:/Users/Pranathi/Downloads/spark-2.0.2-bin-hadoop2.7/spark-2.0.2-bin-hadoop2.7\"\n",
    "\n",
    "os.environ['SPARK_HOME'] = sparkPath\n",
    "sys.path.append(sparkPath + '/bin')\n",
    "sys.path.append(sparkPath + '/python')\n",
    "sys.path.append(sparkPath + '/python/pyspark')\n",
    "sys.path.append(sparkPath + '/python/pyspark/lib')\n",
    "sys.path.append(sparkPath + '/python/pyspark/lib/pyspark.zip')\n",
    "sys.path.append(sparkPath + '/python/pyspark/lib/py4j-0.10.3-src.zip')\n",
    "sys.path.append(\"C:/Program Files (x86)/Java/jre1.8.0_111/bin\")\n",
    "\n",
    "import pyspark\n",
    "from pyspark.streaming import StreamingContext\n",
    "\n",
    "#ssc.stop()\n",
    "sc = pyspark.SparkContext(\"local[2]\", \"trafficData\")\n",
    "ssc = StreamingContext(sc, 10)  # Seconds per micro-batch\n",
    "sqlContext = pyspark.SQLContext(sc)\n",
    "\n",
    "streamPath = 'http://207.251.86.229/nyc-links-cams/LinkSpeedQuery.txt'\n",
    "streamFilePath = \"file:/C:/Users/Pranathi/Desktop/MSBA/Fall/Harvesting Big Data/Project/data/\"\n",
    "\n",
    "import datetime\n",
    "today = datetime.datetime.today()\n",
    "currentDay = today.day\n",
    "currentMonth = today.month\n",
    "currentYear = today.year\n",
    "\n",
    "import pandas as pd"
   ]
  },
  {
   "cell_type": "code",
   "execution_count": 35,
   "metadata": {
    "collapsed": false
   },
   "outputs": [],
   "source": [
    "trafficStream = ssc.textFileStream(streamFilePath).map(lambda line: line.split(','))\n",
    "\n",
    "trafficStream.map(lambda line: (line[0], line[1], line[2], line[4],line[11], line[12])).foreachRDD(lambda rdd: rdd.toDF().registerTempTable(\"traffic\"))\n",
    "#trafficStream.pprint()\n",
    "ssc.start()"
   ]
  },
  {
   "cell_type": "code",
   "execution_count": 36,
   "metadata": {
    "collapsed": false
   },
   "outputs": [
    {
     "data": {
      "text/html": [
       "<iframe id=\"igraph\" scrolling=\"no\" style=\"border:none;\" seamless=\"seamless\" src=\"https://plot.ly/~pranathim1/2.embed\" height=\"525px\" width=\"100%\"></iframe>"
      ],
      "text/plain": [
       "<plotly.tools.PlotlyDisplay object>"
      ]
     },
     "execution_count": 36,
     "metadata": {},
     "output_type": "execute_result"
    }
   ],
   "source": [
    "#Setting the layout for average speed\n",
    "import numpy as np \n",
    "import plotly.plotly as py  \n",
    "import plotly.tools as tls   \n",
    "import plotly.graph_objs as go\n",
    "import plotly \n",
    "from scipy import stats\n",
    "\n",
    "plotly.tools.set_credentials_file(username='pranathim1', api_key='PkS3DJye5w3qpFPjzBN1')\n",
    "\n",
    "token_2 = 'xoyxw205yt'\n",
    "stream_id2 = dict(token=token_2, maxpoints=5)\n",
    "\n",
    "trace1 = go.Bar(x=[], y=[], stream=stream_id2, name='Average Speed',marker =\n",
    "                dict(color = ('rgb(120, 232, 187)')))\n",
    "\n",
    "data = [trace1]\n",
    "\n",
    "layout = dict(title = 'Average Speeds in Boroughs of New York',\n",
    "              xaxis = dict(title = 'Borough'),\n",
    "              yaxis = dict(title = 'Average Speed (miles/hour)'),\n",
    "              )\n",
    "\n",
    "fig = go.Figure(data=data, layout=layout)\n",
    "py.iplot(fig, filename='grouped-bar')\n"
   ]
  },
  {
   "cell_type": "code",
   "execution_count": 38,
   "metadata": {
    "collapsed": false
   },
   "outputs": [],
   "source": [
    "s_2 = py.Stream(stream_id=token_2)\n",
    "s_2.open()\n",
    "\n",
    "\n",
    "import time\n",
    "import datetime\n",
    "import numpy as np\n",
    "\n",
    "while True:\n",
    "    try:\n",
    "        trafficDF = sqlContext.sql(\"select * from traffic LIMIT 87\").toPandas()  # 155 instances updated each time\n",
    "        trafficDF.columns = ['ID', 'Speed', 'TravelTime', 'Time', 'Borough', 'LinkName']  # Naming the columns\n",
    "    \n",
    "    # Removing records not in current year/month/day\n",
    "        trafficDF['Time'] = pd.to_datetime(trafficDF['Time'])  # Converting time to datetime\n",
    "        trafficDF = trafficDF[trafficDF['Time'].dt.year == currentYear]\n",
    "        trafficDF = trafficDF[trafficDF['Time'].dt.month == currentMonth]\n",
    "        trafficDF = trafficDF[trafficDF['Time'].dt.day == currentDay]\n",
    "   \n",
    "        trafficDF['Speed'] = trafficDF['Speed'].astype(float)\n",
    "        trafficDF['TravelTime'] = trafficDF['TravelTime'].astype(float)\n",
    "    \n",
    "        averageDF = trafficDF.groupby('Borough').mean().reset_index(drop=False)\n",
    "    \n",
    "        x = averageDF['Borough']\n",
    "        y = averageDF['Speed']\n",
    "    #y2 = averageDF['TravekTime']\n",
    "        s_2.write(dict(x=x, y=y))\n",
    "        time.sleep( 3 )\n",
    "    except KeyboardInterrupt:\n",
    "        break\n",
    "        \n",
    "s_2.close()"
   ]
  },
  {
   "cell_type": "code",
   "execution_count": 24,
   "metadata": {
    "collapsed": false
   },
   "outputs": [],
   "source": [
    "trafficDF = sqlContext.sql(\"select * from traffic LIMIT 87\").toPandas()"
   ]
  },
  {
   "cell_type": "code",
   "execution_count": 33,
   "metadata": {
    "collapsed": false
   },
   "outputs": [],
   "source": [
    "ssc.stop()"
   ]
  }
 ],
 "metadata": {
  "anaconda-cloud": {},
  "kernelspec": {
   "display_name": "Python [Root]",
   "language": "python",
   "name": "Python [Root]"
  },
  "language_info": {
   "codemirror_mode": {
    "name": "ipython",
    "version": 2
   },
   "file_extension": ".py",
   "mimetype": "text/x-python",
   "name": "python",
   "nbconvert_exporter": "python",
   "pygments_lexer": "ipython2",
   "version": "2.7.12"
  }
 },
 "nbformat": 4,
 "nbformat_minor": 0
}
