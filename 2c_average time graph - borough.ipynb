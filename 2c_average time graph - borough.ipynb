{
 "cells": [
  {
   "cell_type": "code",
   "execution_count": 7,
   "metadata": {
    "collapsed": false
   },
   "outputs": [],
   "source": [
    "# Importing Library and setting environment path\n",
    "import os\n",
    "import sys\n",
    "# set the path \n",
    "\n",
    "sparkPath = \"C:/Users/Pranathi/Downloads/spark-2.0.2-bin-hadoop2.7/spark-2.0.2-bin-hadoop2.7\"\n",
    "\n",
    "os.environ['SPARK_HOME'] = sparkPath\n",
    "sys.path.append(sparkPath + '/bin')\n",
    "sys.path.append(sparkPath + '/python')\n",
    "sys.path.append(sparkPath + '/python/pyspark')\n",
    "sys.path.append(sparkPath + '/python/pyspark/lib')\n",
    "sys.path.append(sparkPath + '/python/pyspark/lib/pyspark.zip')\n",
    "sys.path.append(sparkPath + '/python/pyspark/lib/py4j-0.10.3-src.zip')\n",
    "sys.path.append(\"C:/Program Files (x86)/Java/jre1.8.0_111/bin\")\n",
    "\n",
    "import pyspark\n",
    "from pyspark.streaming import StreamingContext\n",
    "\n",
    "ssc.stop()\n",
    "sc = pyspark.SparkContext(\"local[2]\", \"trafficData\")\n",
    "ssc = StreamingContext(sc, 10)  # Seconds per micro-batch\n",
    "sqlContext = pyspark.SQLContext(sc)\n",
    "\n",
    "streamPath = 'http://207.251.86.229/nyc-links-cams/LinkSpeedQuery.txt'\n",
    "streamFilePath = \"file:/C:/Users/Pranathi/Desktop/MSBA/Fall/Harvesting Big Data/Project/data/\"\n",
    "\n",
    "import datetime\n",
    "today = datetime.datetime.today()\n",
    "currentDay = today.day\n",
    "currentMonth = today.month\n",
    "currentYear = today.year\n",
    "\n",
    "import pandas as pd"
   ]
  },
  {
   "cell_type": "code",
   "execution_count": 8,
   "metadata": {
    "collapsed": true
   },
   "outputs": [],
   "source": [
    "trafficStream = ssc.textFileStream(streamFilePath).map(lambda line: line.split(','))\n",
    "\n",
    "trafficStream.map(lambda line: (line[0], line[1], line[2], line[4],line[11], line[12])).foreachRDD(lambda rdd: rdd.toDF().registerTempTable(\"traffic\"))\n",
    "#trafficStream.pprint()\n",
    "ssc.start()"
   ]
  },
  {
   "cell_type": "code",
   "execution_count": 9,
   "metadata": {
    "collapsed": false
   },
   "outputs": [
    {
     "data": {
      "text/html": [
       "<iframe id=\"igraph\" scrolling=\"no\" style=\"border:none;\" seamless=\"seamless\" src=\"https://plot.ly/~pranathim1/3.embed\" height=\"525px\" width=\"100%\"></iframe>"
      ],
      "text/plain": [
       "<plotly.tools.PlotlyDisplay object>"
      ]
     },
     "execution_count": 9,
     "metadata": {},
     "output_type": "execute_result"
    }
   ],
   "source": [
    "#Setting the layout for average speed\n",
    "import numpy as np \n",
    "import plotly.plotly as py  \n",
    "import plotly.tools as tls   \n",
    "import plotly.graph_objs as go\n",
    "import plotly \n",
    "from scipy import stats\n",
    "\n",
    "plotly.tools.set_credentials_file(username='pranathim1', api_key='VWHz644nRnSifZD1MIe6')\n",
    "\n",
    "token_3 = 'ham7eqgaps'\n",
    "stream_id3 = dict(token=token_3, maxpoints=5)\n",
    "\n",
    "trace1 = go.Bar(x=[], y=[], stream=stream_id3, name='Average Time',marker = dict(color = ('rgb(39, 247, 223)')))\n",
    "\n",
    "data = [trace1]\n",
    "\n",
    "layout = dict(title = 'Average Time taken to travel in Boroughs of New York',\n",
    "              xaxis = dict(title = 'Borough'),\n",
    "              yaxis = dict(title = 'Average Time (seconds)'),\n",
    "              )\n",
    "\n",
    "fig = go.Figure(data=data, layout=layout)\n",
    "py.iplot(fig, filename='Borough-seconds')"
   ]
  },
  {
   "cell_type": "code",
   "execution_count": null,
   "metadata": {
    "collapsed": false
   },
   "outputs": [],
   "source": [
    "s_3 = py.Stream(stream_id=token_3)\n",
    "s_3.open()\n",
    "\n",
    "\n",
    "import time\n",
    "import datetime\n",
    "import numpy as np\n",
    "\n",
    "while True:\n",
    "    time.sleep( 3 )\n",
    "    trafficDF = sqlContext.sql(\"select * from traffic LIMIT 87\").toPandas()  # 155 instances updated each time\n",
    "    trafficDF.columns = ['ID', 'Speed', 'TravelTime', 'Time', 'Borough', 'LinkName']  # Naming the columns\n",
    "    \n",
    "    # Removing records not in current year/month/day\n",
    "    trafficDF['Time'] = pd.to_datetime(trafficDF['Time'])  # Converting time to datetime\n",
    "    trafficDF = trafficDF[trafficDF['Time'].dt.year == currentYear]\n",
    "    trafficDF = trafficDF[trafficDF['Time'].dt.month == currentMonth]\n",
    "    trafficDF = trafficDF[trafficDF['Time'].dt.day == currentDay]\n",
    "   \n",
    "    trafficDF['Speed'] = trafficDF['Speed'].astype(float)\n",
    "    trafficDF['TravelTime'] = trafficDF['TravelTime'].astype(float)\n",
    "    \n",
    "    averagetimeDF = trafficDF.groupby('Borough').mean().reset_index(drop=False)\n",
    "    \n",
    "    x = averagetimeDF['Borough']\n",
    "    y = averagetimeDF['TravelTime']\n",
    "    #y2 = averageDF['TravekTime']\n",
    "    s_3.write(dict(x=x, y=y))\n",
    "\n",
    "s_3.close()"
   ]
  }
 ],
 "metadata": {
  "kernelspec": {
   "display_name": "Python [Root]",
   "language": "python",
   "name": "Python [Root]"
  },
  "language_info": {
   "codemirror_mode": {
    "name": "ipython",
    "version": 2
   },
   "file_extension": ".py",
   "mimetype": "text/x-python",
   "name": "python",
   "nbconvert_exporter": "python",
   "pygments_lexer": "ipython2",
   "version": "2.7.12"
  }
 },
 "nbformat": 4,
 "nbformat_minor": 0
}
